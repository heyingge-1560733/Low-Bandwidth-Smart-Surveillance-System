{
 "cells": [
  {
   "cell_type": "code",
   "execution_count": 2,
   "id": "1fd843db",
   "metadata": {},
   "outputs": [],
   "source": [
    "import pandas as pd\n",
    "import os"
   ]
  },
  {
   "cell_type": "code",
   "execution_count": 30,
   "id": "6e3eb9be",
   "metadata": {
    "scrolled": true
   },
   "outputs": [
    {
     "name": "stdout",
     "output_type": "stream",
     "text": [
      "/Users/freddie/Homeworks/Capstone/code/colab/combined/poses_csvs_out (before further filter)\n"
     ]
    }
   ],
   "source": [
    "%cd /Users/freddie/Homeworks/Capstone/code/colab/combined/poses_csvs_out\\ (before further\\ filter)\n",
    "\n",
    "pd.set_option('display.max_columns', None)\n",
    "pd.set_option('display.max_rows', 10)"
   ]
  },
  {
   "cell_type": "code",
   "execution_count": 31,
   "id": "9bea188a",
   "metadata": {},
   "outputs": [],
   "source": [
    "df_normal = pd.read_csv(\"normal.csv\")\n",
    "df_burglary = pd.read_csv(\"burglary.csv\")"
   ]
  },
  {
   "cell_type": "code",
   "execution_count": 32,
   "id": "3bfcc823",
   "metadata": {},
   "outputs": [],
   "source": [
    "test_size = round(min(len(df_burglary.index), len(df_normal.index) * 0.2))"
   ]
  },
  {
   "cell_type": "code",
   "execution_count": 33,
   "id": "a85a44a2",
   "metadata": {},
   "outputs": [],
   "source": [
    "def prepare_train_test_dataframes(df, test_size):\n",
    "    df_test = df.sample(n=test_size, random_state=0)\n",
    "    df_train = pd.concat([df,df_test]).drop_duplicates(keep=False)\n",
    "    return df_train, df_test"
   ]
  },
  {
   "cell_type": "code",
   "execution_count": 34,
   "id": "573a7b6d",
   "metadata": {},
   "outputs": [],
   "source": [
    "df_train, df_test = prepare_train_test_dataframes(df_burglary, test_size)\n",
    "df_train.to_csv(\"train_burglary.csv\", index=False)\n",
    "df_test.to_csv(\"test_burglary.csv\", index=False)"
   ]
  },
  {
   "cell_type": "code",
   "execution_count": 35,
   "id": "799fe9f6",
   "metadata": {},
   "outputs": [],
   "source": [
    "df_train, df_test = prepare_train_test_dataframes(df_normal, test_size)\n",
    "df_train.to_csv(\"train_normal.csv\", index=False)\n",
    "df_test.to_csv(\"test_normal.csv\", index=False)"
   ]
  },
  {
   "cell_type": "code",
   "execution_count": null,
   "id": "3014fca6",
   "metadata": {},
   "outputs": [],
   "source": []
  }
 ],
 "metadata": {
  "kernelspec": {
   "display_name": "Python 3",
   "language": "python",
   "name": "python3"
  },
  "language_info": {
   "codemirror_mode": {
    "name": "ipython",
    "version": 3
   },
   "file_extension": ".py",
   "mimetype": "text/x-python",
   "name": "python",
   "nbconvert_exporter": "python",
   "pygments_lexer": "ipython3",
   "version": "3.7.3"
  }
 },
 "nbformat": 4,
 "nbformat_minor": 5
}
